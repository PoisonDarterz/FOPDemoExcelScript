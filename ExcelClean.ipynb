{
 "cells": [
  {
   "cell_type": "markdown",
   "source": [
    "# FOP Demonstator Sheet\n",
    "\n",
    "## Converting Excel to CSV\n",
    "\n",
    "For this entire notebook, you need to manually paste the excel locations file by file into here. If you have multiple files you just paste it one by one.\n",
    "If you know how to put all files into a directory and use just one loop no matter the number of files, do send in a PR."
   ],
   "metadata": {
    "collapsed": false
   },
   "id": "1b159dba062103b6"
  },
  {
   "cell_type": "code",
   "execution_count": 47,
   "id": "initial_id",
   "metadata": {
    "collapsed": true,
    "ExecuteTime": {
     "end_time": "2023-11-02T16:07:00.389329200Z",
     "start_time": "2023-11-02T16:07:00.165285Z"
    }
   },
   "outputs": [],
   "source": [
    "import pandas as pd\n",
    "\n",
    "file1 = pd.read_excel (r'WIX1002_AttendanceSession_435577_2023112-1646.xlsx')\n",
    "file1.to_csv (r'attn1.csv', index = None, header=True)\n",
    "\n",
    "file2 = pd.read_excel (r'WIX1002_AttendanceSession_435578_2023112-1646.xlsx')\n",
    "file2.to_csv (r'attn2.csv', index = None, header=True)\n",
    "\n",
    "file3 = pd.read_excel (r'WIX1002_AttendanceSession_435579_2023112-1646.xlsx')\n",
    "file3.to_csv (r'attn3.csv', index = None, header=True)\n",
    "\n",
    "file4 = pd.read_excel (r'courseid_151_participants (1).xlsx')\n",
    "file4.to_csv (r'students.csv', index = None, header=True)"
   ]
  },
  {
   "cell_type": "markdown",
   "source": [
    "## CSV overview"
   ],
   "metadata": {
    "collapsed": false
   },
   "id": "7314da1b0ffe4a24"
  },
  {
   "cell_type": "code",
   "execution_count": 48,
   "outputs": [
    {
     "data": {
      "text/plain": "   ID number                                Name             Email address  \\\n0      Group                    All participants                       NaN   \n1    Session        12-10-2023 10:00AM - 01:00PM                       NaN   \n2        NaN                                 NaN                       NaN   \n3  ID number                                Name             Email address   \n4   22002566  ABDUL ALIFF AMMAR BIN ABDUL KHALID  22002566@siswa.um.edu.my   \n\n   Status  Unnamed: 4 Unnamed: 5 Unnamed: 6           Unnamed: 7  \\\n0     NaN         NaN        NaN        NaN                  NaN   \n1     NaN         NaN        NaN        NaN                  NaN   \n2     NaN         NaN        NaN        NaN                  NaN   \n3  Status  Time Taken   Latitude  Longitude  Latitude Difference   \n4  Absent         NaN        NaN        NaN                  NaN   \n\n             Unnamed: 8 Unnamed: 9 Unnamed: 10  \n0                   NaN        NaN         NaN  \n1                   NaN        NaN         NaN  \n2                   NaN        NaN         NaN  \n3  Longitude Difference     Device      Remark  \n4                   NaN        NaN         NaN  ",
      "text/html": "<div>\n<style scoped>\n    .dataframe tbody tr th:only-of-type {\n        vertical-align: middle;\n    }\n\n    .dataframe tbody tr th {\n        vertical-align: top;\n    }\n\n    .dataframe thead th {\n        text-align: right;\n    }\n</style>\n<table border=\"1\" class=\"dataframe\">\n  <thead>\n    <tr style=\"text-align: right;\">\n      <th></th>\n      <th>ID number</th>\n      <th>Name</th>\n      <th>Email address</th>\n      <th>Status</th>\n      <th>Unnamed: 4</th>\n      <th>Unnamed: 5</th>\n      <th>Unnamed: 6</th>\n      <th>Unnamed: 7</th>\n      <th>Unnamed: 8</th>\n      <th>Unnamed: 9</th>\n      <th>Unnamed: 10</th>\n    </tr>\n  </thead>\n  <tbody>\n    <tr>\n      <th>0</th>\n      <td>Group</td>\n      <td>All participants</td>\n      <td>NaN</td>\n      <td>NaN</td>\n      <td>NaN</td>\n      <td>NaN</td>\n      <td>NaN</td>\n      <td>NaN</td>\n      <td>NaN</td>\n      <td>NaN</td>\n      <td>NaN</td>\n    </tr>\n    <tr>\n      <th>1</th>\n      <td>Session</td>\n      <td>12-10-2023 10:00AM - 01:00PM</td>\n      <td>NaN</td>\n      <td>NaN</td>\n      <td>NaN</td>\n      <td>NaN</td>\n      <td>NaN</td>\n      <td>NaN</td>\n      <td>NaN</td>\n      <td>NaN</td>\n      <td>NaN</td>\n    </tr>\n    <tr>\n      <th>2</th>\n      <td>NaN</td>\n      <td>NaN</td>\n      <td>NaN</td>\n      <td>NaN</td>\n      <td>NaN</td>\n      <td>NaN</td>\n      <td>NaN</td>\n      <td>NaN</td>\n      <td>NaN</td>\n      <td>NaN</td>\n      <td>NaN</td>\n    </tr>\n    <tr>\n      <th>3</th>\n      <td>ID number</td>\n      <td>Name</td>\n      <td>Email address</td>\n      <td>Status</td>\n      <td>Time Taken</td>\n      <td>Latitude</td>\n      <td>Longitude</td>\n      <td>Latitude Difference</td>\n      <td>Longitude Difference</td>\n      <td>Device</td>\n      <td>Remark</td>\n    </tr>\n    <tr>\n      <th>4</th>\n      <td>22002566</td>\n      <td>ABDUL ALIFF AMMAR BIN ABDUL KHALID</td>\n      <td>22002566@siswa.um.edu.my</td>\n      <td>Absent</td>\n      <td>NaN</td>\n      <td>NaN</td>\n      <td>NaN</td>\n      <td>NaN</td>\n      <td>NaN</td>\n      <td>NaN</td>\n      <td>NaN</td>\n    </tr>\n  </tbody>\n</table>\n</div>"
     },
     "execution_count": 48,
     "metadata": {},
     "output_type": "execute_result"
    }
   ],
   "source": [
    "oct12 = pd.read_csv('attn1.csv')\n",
    "oct19 = pd.read_csv('attn2.csv')\n",
    "oct26 = pd.read_csv('attn3.csv')\n",
    "students = pd.read_csv('students.csv')\n",
    "\n",
    "oct12.rename(columns={'Course': 'ID number'}, inplace=True)\n",
    "oct12.rename(columns={'WIX1002 FUNDAMENTALS OF PROGRAMMING' : 'Name'}, inplace=True)\n",
    "oct12.rename(columns={'Unnamed: 2': 'Email address'}, inplace=True)\n",
    "oct12.rename(columns={'Unnamed: 3': 'Status'}, inplace=True)\n",
    "\n",
    "oct19.rename(columns={'Course': 'ID number'}, inplace=True)\n",
    "oct19.rename(columns={'WIX1002 FUNDAMENTALS OF PROGRAMMING' : 'Name'}, inplace=True)\n",
    "oct19.rename(columns={'Unnamed: 2': 'Email address'}, inplace=True)\n",
    "oct19.rename(columns={'Unnamed: 3': 'Status'}, inplace=True)\n",
    "\n",
    "oct26.rename(columns={'Course': 'ID number'}, inplace=True)\n",
    "oct26.rename(columns={'WIX1002 FUNDAMENTALS OF PROGRAMMING' : 'Name'}, inplace=True)\n",
    "oct26.rename(columns={'Unnamed: 2': 'Email address'}, inplace=True)\n",
    "oct26.rename(columns={'Unnamed: 3': 'Status'}, inplace=True)\n",
    "\n",
    "oct12.head()"
   ],
   "metadata": {
    "collapsed": false,
    "ExecuteTime": {
     "end_time": "2023-11-02T16:07:00.436510600Z",
     "start_time": "2023-11-02T16:07:00.389329200Z"
    }
   },
   "id": "53476bffbf0acbda"
  },
  {
   "cell_type": "code",
   "execution_count": 49,
   "outputs": [
    {
     "data": {
      "text/plain": "    ID number                                   Name  \\\n227  17203558  MUHAMMAD AMEER HAKIM BIN HARMI SAZLAN   \n230  22000533             MUHAMMAD AMIR BIN MAT RAZI   \n15   22000628        AHMAD DANIAL ADLI BIN MOHD ZAKI   \n431  22000741        WAN NUR SYAHIRAH BINTI WAN AZIZ   \n43   22000822             ARIFF IRFAN BIN CHE HAMZAH   \n\n                Email address  Status  \n227  17203558@siswa.um.edu.my  Absent  \n230  22000533@siswa.um.edu.my  Absent  \n15   22000628@siswa.um.edu.my  Absent  \n431  22000741@siswa.um.edu.my  Absent  \n43   22000822@siswa.um.edu.my  Absent  ",
      "text/html": "<div>\n<style scoped>\n    .dataframe tbody tr th:only-of-type {\n        vertical-align: middle;\n    }\n\n    .dataframe tbody tr th {\n        vertical-align: top;\n    }\n\n    .dataframe thead th {\n        text-align: right;\n    }\n</style>\n<table border=\"1\" class=\"dataframe\">\n  <thead>\n    <tr style=\"text-align: right;\">\n      <th></th>\n      <th>ID number</th>\n      <th>Name</th>\n      <th>Email address</th>\n      <th>Status</th>\n    </tr>\n  </thead>\n  <tbody>\n    <tr>\n      <th>227</th>\n      <td>17203558</td>\n      <td>MUHAMMAD AMEER HAKIM BIN HARMI SAZLAN</td>\n      <td>17203558@siswa.um.edu.my</td>\n      <td>Absent</td>\n    </tr>\n    <tr>\n      <th>230</th>\n      <td>22000533</td>\n      <td>MUHAMMAD AMIR BIN MAT RAZI</td>\n      <td>22000533@siswa.um.edu.my</td>\n      <td>Absent</td>\n    </tr>\n    <tr>\n      <th>15</th>\n      <td>22000628</td>\n      <td>AHMAD DANIAL ADLI BIN MOHD ZAKI</td>\n      <td>22000628@siswa.um.edu.my</td>\n      <td>Absent</td>\n    </tr>\n    <tr>\n      <th>431</th>\n      <td>22000741</td>\n      <td>WAN NUR SYAHIRAH BINTI WAN AZIZ</td>\n      <td>22000741@siswa.um.edu.my</td>\n      <td>Absent</td>\n    </tr>\n    <tr>\n      <th>43</th>\n      <td>22000822</td>\n      <td>ARIFF IRFAN BIN CHE HAMZAH</td>\n      <td>22000822@siswa.um.edu.my</td>\n      <td>Absent</td>\n    </tr>\n  </tbody>\n</table>\n</div>"
     },
     "execution_count": 49,
     "metadata": {},
     "output_type": "execute_result"
    }
   ],
   "source": [
    "# ONLY RUN THIS BLOCK ONCE.\n",
    "# If accidentally ran more than once, run from the top again.\n",
    "\n",
    "# drop first 4 rows\n",
    "oct12 = oct12.iloc[4:]\n",
    "oct19 = oct19.iloc[4:]\n",
    "oct26 = oct26.iloc[4:]\n",
    "\n",
    "# keep the first 4 columns only\n",
    "oct12 = oct12.iloc[:, :4]\n",
    "oct19 = oct19.iloc[:, :4]\n",
    "oct26 = oct26.iloc[:, :4]\n",
    "\n",
    "# drop first row of student (Dr Unaizah)\n",
    "students = students.iloc[1:]\n",
    "\n",
    "# sort all dataframes by ID number\n",
    "oct12 = oct12.sort_values(by=['ID number'])\n",
    "oct19 = oct19.sort_values(by=['ID number'])\n",
    "oct26 = oct26.sort_values(by=['ID number'])\n",
    "students = students.sort_values(by=['ID number'])\n",
    "\n",
    "oct12.head()"
   ],
   "metadata": {
    "collapsed": false,
    "ExecuteTime": {
     "end_time": "2023-11-02T16:07:00.561669300Z",
     "start_time": "2023-11-02T16:07:00.436510600Z"
    }
   },
   "id": "9f65e5fbf9bcbb25"
  },
  {
   "cell_type": "code",
   "execution_count": 50,
   "outputs": [
    {
     "data": {
      "text/plain": "                                   First name Surname ID number  \\\n4           MUHAMMAD SYAHMIE BIN MOHD.AFFANDI       .  22001043   \n21                  NUR SANJIDA BINTI MD TITU       .  22001044   \n6                       AKMAL HARIZ BIN AZIDI       .  22001279   \n19  TENGKU MOHAMAD HAIKAL BIN TENGKU ABDULLAH       .  22001741   \n1                 ADIB RUSYAIDI BIN MOHD ZAKI       .  22001821   \n\n               Email address  \n4   22001043@siswa.um.edu.my  \n21  22001044@siswa.um.edu.my  \n6   22001279@siswa.um.edu.my  \n19  22001741@siswa.um.edu.my  \n1   22001821@siswa.um.edu.my  ",
      "text/html": "<div>\n<style scoped>\n    .dataframe tbody tr th:only-of-type {\n        vertical-align: middle;\n    }\n\n    .dataframe tbody tr th {\n        vertical-align: top;\n    }\n\n    .dataframe thead th {\n        text-align: right;\n    }\n</style>\n<table border=\"1\" class=\"dataframe\">\n  <thead>\n    <tr style=\"text-align: right;\">\n      <th></th>\n      <th>First name</th>\n      <th>Surname</th>\n      <th>ID number</th>\n      <th>Email address</th>\n    </tr>\n  </thead>\n  <tbody>\n    <tr>\n      <th>4</th>\n      <td>MUHAMMAD SYAHMIE BIN MOHD.AFFANDI</td>\n      <td>.</td>\n      <td>22001043</td>\n      <td>22001043@siswa.um.edu.my</td>\n    </tr>\n    <tr>\n      <th>21</th>\n      <td>NUR SANJIDA BINTI MD TITU</td>\n      <td>.</td>\n      <td>22001044</td>\n      <td>22001044@siswa.um.edu.my</td>\n    </tr>\n    <tr>\n      <th>6</th>\n      <td>AKMAL HARIZ BIN AZIDI</td>\n      <td>.</td>\n      <td>22001279</td>\n      <td>22001279@siswa.um.edu.my</td>\n    </tr>\n    <tr>\n      <th>19</th>\n      <td>TENGKU MOHAMAD HAIKAL BIN TENGKU ABDULLAH</td>\n      <td>.</td>\n      <td>22001741</td>\n      <td>22001741@siswa.um.edu.my</td>\n    </tr>\n    <tr>\n      <th>1</th>\n      <td>ADIB RUSYAIDI BIN MOHD ZAKI</td>\n      <td>.</td>\n      <td>22001821</td>\n      <td>22001821@siswa.um.edu.my</td>\n    </tr>\n  </tbody>\n</table>\n</div>"
     },
     "execution_count": 50,
     "metadata": {},
     "output_type": "execute_result"
    }
   ],
   "source": [
    "students.head()"
   ],
   "metadata": {
    "collapsed": false,
    "ExecuteTime": {
     "end_time": "2023-11-02T16:07:00.656922900Z",
     "start_time": "2023-11-02T16:07:00.467779600Z"
    }
   },
   "id": "64459b31af498989"
  },
  {
   "cell_type": "code",
   "execution_count": 51,
   "outputs": [
    {
     "data": {
      "text/plain": "    ID number                                        Name  \\\n266  22001043           MUHAMMAD SYAHMIE BIN MOHD.AFFANDI   \n313  22001044                   NUR SANJIDA BINTI MD TITU   \n25   22001279                       AKMAL HARIZ BIN AZIDI   \n404  22001741   TENGKU MOHAMAD HAIKAL BIN TENGKU ABDULLAH   \n9    22001821                 ADIB RUSYAIDI BIN MOHD ZAKI   \n264  22001866               MUHAMMAD NUR FITRI BIN FAIZAN   \n16   22002089              AHMAD FAHIIM BIN MOHAMAD KAMAL   \n241  22002100              MUHAMMAD DANIEL BIN MOHD NAZRI   \n8    22002146                             ADAM BIN RAZALI   \n125  22002203                     IMAN SOFFEA BINTI JAMAL   \n7    22002231                 ABDUL RAUF HAZIM BIN HARISI   \n285  22002302     NIK MUHAMMAD AL-FATIH BIN NIK SYAHRIMAN   \n334  22002385         RADIN IZZ ZUHAIR BIN RADIN ERWANDDY   \n242  22002423              MUHAMMAD DANISH BIN AZRAI IZET   \n231  22002511             MUHAMMAD AMIR HAKIM BIN MADZLAN   \n34   22002548                'AMMAR HAZIQ BIN ABDUL HALIM   \n4    22002566          ABDUL ALIFF AMMAR BIN ABDUL KHALID   \n42   22002569                 AQMAL IMAN BIN ASMADI YUSRI   \n236  22002629  Muhammad Aniq Aizuddin Tai bin Redzuan Tai   \n411  22002655                               THIERRY HARRY   \n31   22002675         AMAN ISKANDAR BIN MOHAMAD DZULHAIDI   \n244  22002692       MUHAMMAD DANISH LUQMAN BIN SHAIFUDDIN   \n366  22002726         SITI NURFAHADA BINTI DARUS @ MAHADI   \n301  22057765     NUR FARISYA ALYSSA BINTI MUHAMMAD HELMY   \n96   22089152                                 FENG YUEXIN   \n271  22095142                         NADYA DEMITA CAMILA   \n27   22106925                                 ALIYA ISHAK   \n413  23004881                     THRISHA A/P THIRUMORTHY   \n350  23004895                  SHARVEENA A/P PUVENESWARAN   \n324  23004900                              OOI KWONG YANG   \n438  23004924                               WONG JING WEN   \n320  23004928                                 ONG HAN LIN   \n196  23004980                                 LO JIA KENG   \n63   23004991                              CHEONG YAN JIE   \n74   23005000                                CHUA HUI MIN   \n183  23005005                              LIM JIAN CHUEN   \n384  23005011                                  TAN LI XIN   \n57   23005019                                CHAW YEN HUA   \n55   23005031                              CHANG CAI TING   \n114  23050091                                  HE ZHENLIN   \n193  23053827                                  LI XUEYANG   \n276  23054536               NAZRUL IKRAM BIN NAZARULANUAR   \n202  23063748                LUQMAN NURHAKIM BIN MD RAPIT   \n462  S2190329                                  Yulun Deng   \n249  S2195231        Muhammad Hazeem Aiman bin Fuad Hilmi   \n\n                Email address   Status  \n266  22001043@siswa.um.edu.my   Absent  \n313  22001044@siswa.um.edu.my   Absent  \n25   22001279@siswa.um.edu.my   Absent  \n404  22001741@siswa.um.edu.my   Absent  \n9    22001821@siswa.um.edu.my   Absent  \n264  22001866@siswa.um.edu.my   Absent  \n16   22002089@siswa.um.edu.my   Absent  \n241  22002100@siswa.um.edu.my   Absent  \n8    22002146@siswa.um.edu.my   Absent  \n125  22002203@siswa.um.edu.my   Absent  \n7    22002231@siswa.um.edu.my   Absent  \n285  22002302@siswa.um.edu.my   Absent  \n334  22002385@siswa.um.edu.my   Absent  \n242  22002423@siswa.um.edu.my   Absent  \n231  22002511@siswa.um.edu.my  Present  \n34   22002548@siswa.um.edu.my   Absent  \n4    22002566@siswa.um.edu.my   Absent  \n42   22002569@siswa.um.edu.my   Absent  \n236  22002629@siswa.um.edu.my   Absent  \n411  22002655@siswa.um.edu.my   Absent  \n31   22002675@siswa.um.edu.my   Absent  \n244  22002692@siswa.um.edu.my   Absent  \n366  22002726@siswa.um.edu.my   Absent  \n301  22057765@siswa.um.edu.my   Absent  \n96   22089152@siswa.um.edu.my  Present  \n271  22095142@siswa.um.edu.my   Absent  \n27   22106925@siswa.um.edu.my   Absent  \n413  23004881@siswa.um.edu.my  Present  \n350  23004895@siswa.um.edu.my   Absent  \n324  23004900@siswa.um.edu.my   Absent  \n438  23004924@siswa.um.edu.my   Absent  \n320  23004928@siswa.um.edu.my  Present  \n196  23004980@siswa.um.edu.my   Absent  \n63   23004991@siswa.um.edu.my   Absent  \n74   23005000@siswa.um.edu.my  Present  \n183  23005005@siswa.um.edu.my   Absent  \n384  23005011@siswa.um.edu.my   Absent  \n57   23005019@siswa.um.edu.my  Present  \n55   23005031@siswa.um.edu.my  Present  \n114  23050091@siswa.um.edu.my   Absent  \n193  23053827@siswa.um.edu.my   Absent  \n276  23054536@siswa.um.edu.my  Present  \n202  23063748@siswa.um.edu.my   Absent  \n462  s2190329@siswa.um.edu.my  Present  \n249  s2195231@siswa.um.edu.my   Absent  ",
      "text/html": "<div>\n<style scoped>\n    .dataframe tbody tr th:only-of-type {\n        vertical-align: middle;\n    }\n\n    .dataframe tbody tr th {\n        vertical-align: top;\n    }\n\n    .dataframe thead th {\n        text-align: right;\n    }\n</style>\n<table border=\"1\" class=\"dataframe\">\n  <thead>\n    <tr style=\"text-align: right;\">\n      <th></th>\n      <th>ID number</th>\n      <th>Name</th>\n      <th>Email address</th>\n      <th>Status</th>\n    </tr>\n  </thead>\n  <tbody>\n    <tr>\n      <th>266</th>\n      <td>22001043</td>\n      <td>MUHAMMAD SYAHMIE BIN MOHD.AFFANDI</td>\n      <td>22001043@siswa.um.edu.my</td>\n      <td>Absent</td>\n    </tr>\n    <tr>\n      <th>313</th>\n      <td>22001044</td>\n      <td>NUR SANJIDA BINTI MD TITU</td>\n      <td>22001044@siswa.um.edu.my</td>\n      <td>Absent</td>\n    </tr>\n    <tr>\n      <th>25</th>\n      <td>22001279</td>\n      <td>AKMAL HARIZ BIN AZIDI</td>\n      <td>22001279@siswa.um.edu.my</td>\n      <td>Absent</td>\n    </tr>\n    <tr>\n      <th>404</th>\n      <td>22001741</td>\n      <td>TENGKU MOHAMAD HAIKAL BIN TENGKU ABDULLAH</td>\n      <td>22001741@siswa.um.edu.my</td>\n      <td>Absent</td>\n    </tr>\n    <tr>\n      <th>9</th>\n      <td>22001821</td>\n      <td>ADIB RUSYAIDI BIN MOHD ZAKI</td>\n      <td>22001821@siswa.um.edu.my</td>\n      <td>Absent</td>\n    </tr>\n    <tr>\n      <th>264</th>\n      <td>22001866</td>\n      <td>MUHAMMAD NUR FITRI BIN FAIZAN</td>\n      <td>22001866@siswa.um.edu.my</td>\n      <td>Absent</td>\n    </tr>\n    <tr>\n      <th>16</th>\n      <td>22002089</td>\n      <td>AHMAD FAHIIM BIN MOHAMAD KAMAL</td>\n      <td>22002089@siswa.um.edu.my</td>\n      <td>Absent</td>\n    </tr>\n    <tr>\n      <th>241</th>\n      <td>22002100</td>\n      <td>MUHAMMAD DANIEL BIN MOHD NAZRI</td>\n      <td>22002100@siswa.um.edu.my</td>\n      <td>Absent</td>\n    </tr>\n    <tr>\n      <th>8</th>\n      <td>22002146</td>\n      <td>ADAM BIN RAZALI</td>\n      <td>22002146@siswa.um.edu.my</td>\n      <td>Absent</td>\n    </tr>\n    <tr>\n      <th>125</th>\n      <td>22002203</td>\n      <td>IMAN SOFFEA BINTI JAMAL</td>\n      <td>22002203@siswa.um.edu.my</td>\n      <td>Absent</td>\n    </tr>\n    <tr>\n      <th>7</th>\n      <td>22002231</td>\n      <td>ABDUL RAUF HAZIM BIN HARISI</td>\n      <td>22002231@siswa.um.edu.my</td>\n      <td>Absent</td>\n    </tr>\n    <tr>\n      <th>285</th>\n      <td>22002302</td>\n      <td>NIK MUHAMMAD AL-FATIH BIN NIK SYAHRIMAN</td>\n      <td>22002302@siswa.um.edu.my</td>\n      <td>Absent</td>\n    </tr>\n    <tr>\n      <th>334</th>\n      <td>22002385</td>\n      <td>RADIN IZZ ZUHAIR BIN RADIN ERWANDDY</td>\n      <td>22002385@siswa.um.edu.my</td>\n      <td>Absent</td>\n    </tr>\n    <tr>\n      <th>242</th>\n      <td>22002423</td>\n      <td>MUHAMMAD DANISH BIN AZRAI IZET</td>\n      <td>22002423@siswa.um.edu.my</td>\n      <td>Absent</td>\n    </tr>\n    <tr>\n      <th>231</th>\n      <td>22002511</td>\n      <td>MUHAMMAD AMIR HAKIM BIN MADZLAN</td>\n      <td>22002511@siswa.um.edu.my</td>\n      <td>Present</td>\n    </tr>\n    <tr>\n      <th>34</th>\n      <td>22002548</td>\n      <td>'AMMAR HAZIQ BIN ABDUL HALIM</td>\n      <td>22002548@siswa.um.edu.my</td>\n      <td>Absent</td>\n    </tr>\n    <tr>\n      <th>4</th>\n      <td>22002566</td>\n      <td>ABDUL ALIFF AMMAR BIN ABDUL KHALID</td>\n      <td>22002566@siswa.um.edu.my</td>\n      <td>Absent</td>\n    </tr>\n    <tr>\n      <th>42</th>\n      <td>22002569</td>\n      <td>AQMAL IMAN BIN ASMADI YUSRI</td>\n      <td>22002569@siswa.um.edu.my</td>\n      <td>Absent</td>\n    </tr>\n    <tr>\n      <th>236</th>\n      <td>22002629</td>\n      <td>Muhammad Aniq Aizuddin Tai bin Redzuan Tai</td>\n      <td>22002629@siswa.um.edu.my</td>\n      <td>Absent</td>\n    </tr>\n    <tr>\n      <th>411</th>\n      <td>22002655</td>\n      <td>THIERRY HARRY</td>\n      <td>22002655@siswa.um.edu.my</td>\n      <td>Absent</td>\n    </tr>\n    <tr>\n      <th>31</th>\n      <td>22002675</td>\n      <td>AMAN ISKANDAR BIN MOHAMAD DZULHAIDI</td>\n      <td>22002675@siswa.um.edu.my</td>\n      <td>Absent</td>\n    </tr>\n    <tr>\n      <th>244</th>\n      <td>22002692</td>\n      <td>MUHAMMAD DANISH LUQMAN BIN SHAIFUDDIN</td>\n      <td>22002692@siswa.um.edu.my</td>\n      <td>Absent</td>\n    </tr>\n    <tr>\n      <th>366</th>\n      <td>22002726</td>\n      <td>SITI NURFAHADA BINTI DARUS @ MAHADI</td>\n      <td>22002726@siswa.um.edu.my</td>\n      <td>Absent</td>\n    </tr>\n    <tr>\n      <th>301</th>\n      <td>22057765</td>\n      <td>NUR FARISYA ALYSSA BINTI MUHAMMAD HELMY</td>\n      <td>22057765@siswa.um.edu.my</td>\n      <td>Absent</td>\n    </tr>\n    <tr>\n      <th>96</th>\n      <td>22089152</td>\n      <td>FENG YUEXIN</td>\n      <td>22089152@siswa.um.edu.my</td>\n      <td>Present</td>\n    </tr>\n    <tr>\n      <th>271</th>\n      <td>22095142</td>\n      <td>NADYA DEMITA CAMILA</td>\n      <td>22095142@siswa.um.edu.my</td>\n      <td>Absent</td>\n    </tr>\n    <tr>\n      <th>27</th>\n      <td>22106925</td>\n      <td>ALIYA ISHAK</td>\n      <td>22106925@siswa.um.edu.my</td>\n      <td>Absent</td>\n    </tr>\n    <tr>\n      <th>413</th>\n      <td>23004881</td>\n      <td>THRISHA A/P THIRUMORTHY</td>\n      <td>23004881@siswa.um.edu.my</td>\n      <td>Present</td>\n    </tr>\n    <tr>\n      <th>350</th>\n      <td>23004895</td>\n      <td>SHARVEENA A/P PUVENESWARAN</td>\n      <td>23004895@siswa.um.edu.my</td>\n      <td>Absent</td>\n    </tr>\n    <tr>\n      <th>324</th>\n      <td>23004900</td>\n      <td>OOI KWONG YANG</td>\n      <td>23004900@siswa.um.edu.my</td>\n      <td>Absent</td>\n    </tr>\n    <tr>\n      <th>438</th>\n      <td>23004924</td>\n      <td>WONG JING WEN</td>\n      <td>23004924@siswa.um.edu.my</td>\n      <td>Absent</td>\n    </tr>\n    <tr>\n      <th>320</th>\n      <td>23004928</td>\n      <td>ONG HAN LIN</td>\n      <td>23004928@siswa.um.edu.my</td>\n      <td>Present</td>\n    </tr>\n    <tr>\n      <th>196</th>\n      <td>23004980</td>\n      <td>LO JIA KENG</td>\n      <td>23004980@siswa.um.edu.my</td>\n      <td>Absent</td>\n    </tr>\n    <tr>\n      <th>63</th>\n      <td>23004991</td>\n      <td>CHEONG YAN JIE</td>\n      <td>23004991@siswa.um.edu.my</td>\n      <td>Absent</td>\n    </tr>\n    <tr>\n      <th>74</th>\n      <td>23005000</td>\n      <td>CHUA HUI MIN</td>\n      <td>23005000@siswa.um.edu.my</td>\n      <td>Present</td>\n    </tr>\n    <tr>\n      <th>183</th>\n      <td>23005005</td>\n      <td>LIM JIAN CHUEN</td>\n      <td>23005005@siswa.um.edu.my</td>\n      <td>Absent</td>\n    </tr>\n    <tr>\n      <th>384</th>\n      <td>23005011</td>\n      <td>TAN LI XIN</td>\n      <td>23005011@siswa.um.edu.my</td>\n      <td>Absent</td>\n    </tr>\n    <tr>\n      <th>57</th>\n      <td>23005019</td>\n      <td>CHAW YEN HUA</td>\n      <td>23005019@siswa.um.edu.my</td>\n      <td>Present</td>\n    </tr>\n    <tr>\n      <th>55</th>\n      <td>23005031</td>\n      <td>CHANG CAI TING</td>\n      <td>23005031@siswa.um.edu.my</td>\n      <td>Present</td>\n    </tr>\n    <tr>\n      <th>114</th>\n      <td>23050091</td>\n      <td>HE ZHENLIN</td>\n      <td>23050091@siswa.um.edu.my</td>\n      <td>Absent</td>\n    </tr>\n    <tr>\n      <th>193</th>\n      <td>23053827</td>\n      <td>LI XUEYANG</td>\n      <td>23053827@siswa.um.edu.my</td>\n      <td>Absent</td>\n    </tr>\n    <tr>\n      <th>276</th>\n      <td>23054536</td>\n      <td>NAZRUL IKRAM BIN NAZARULANUAR</td>\n      <td>23054536@siswa.um.edu.my</td>\n      <td>Present</td>\n    </tr>\n    <tr>\n      <th>202</th>\n      <td>23063748</td>\n      <td>LUQMAN NURHAKIM BIN MD RAPIT</td>\n      <td>23063748@siswa.um.edu.my</td>\n      <td>Absent</td>\n    </tr>\n    <tr>\n      <th>462</th>\n      <td>S2190329</td>\n      <td>Yulun Deng</td>\n      <td>s2190329@siswa.um.edu.my</td>\n      <td>Present</td>\n    </tr>\n    <tr>\n      <th>249</th>\n      <td>S2195231</td>\n      <td>Muhammad Hazeem Aiman bin Fuad Hilmi</td>\n      <td>s2195231@siswa.um.edu.my</td>\n      <td>Absent</td>\n    </tr>\n  </tbody>\n</table>\n</div>"
     },
     "execution_count": 51,
     "metadata": {},
     "output_type": "execute_result"
    }
   ],
   "source": [
    "# Keep only students present in students dataframe from oct12, oct19, oct26\n",
    "\n",
    "oct12 = oct12[oct12['ID number'].isin(students['ID number'])]\n",
    "oct19 = oct19[oct19['ID number'].isin(students['ID number'])]\n",
    "oct26 = oct26[oct26['ID number'].isin(students['ID number'])]\n",
    "\n",
    "oct12.head(50)"
   ],
   "metadata": {
    "collapsed": false,
    "ExecuteTime": {
     "end_time": "2023-11-02T16:07:00.703788100Z",
     "start_time": "2023-11-02T16:07:00.499019100Z"
    }
   },
   "id": "c91fca67d81562eb"
  },
  {
   "cell_type": "code",
   "execution_count": 52,
   "outputs": [
    {
     "data": {
      "text/plain": "   ID number                                 First name\n4   22001043          MUHAMMAD SYAHMIE BIN MOHD.AFFANDI\n21  22001044                  NUR SANJIDA BINTI MD TITU\n6   22001279                      AKMAL HARIZ BIN AZIDI\n19  22001741  TENGKU MOHAMAD HAIKAL BIN TENGKU ABDULLAH\n1   22001821                ADIB RUSYAIDI BIN MOHD ZAKI",
      "text/html": "<div>\n<style scoped>\n    .dataframe tbody tr th:only-of-type {\n        vertical-align: middle;\n    }\n\n    .dataframe tbody tr th {\n        vertical-align: top;\n    }\n\n    .dataframe thead th {\n        text-align: right;\n    }\n</style>\n<table border=\"1\" class=\"dataframe\">\n  <thead>\n    <tr style=\"text-align: right;\">\n      <th></th>\n      <th>ID number</th>\n      <th>First name</th>\n    </tr>\n  </thead>\n  <tbody>\n    <tr>\n      <th>4</th>\n      <td>22001043</td>\n      <td>MUHAMMAD SYAHMIE BIN MOHD.AFFANDI</td>\n    </tr>\n    <tr>\n      <th>21</th>\n      <td>22001044</td>\n      <td>NUR SANJIDA BINTI MD TITU</td>\n    </tr>\n    <tr>\n      <th>6</th>\n      <td>22001279</td>\n      <td>AKMAL HARIZ BIN AZIDI</td>\n    </tr>\n    <tr>\n      <th>19</th>\n      <td>22001741</td>\n      <td>TENGKU MOHAMAD HAIKAL BIN TENGKU ABDULLAH</td>\n    </tr>\n    <tr>\n      <th>1</th>\n      <td>22001821</td>\n      <td>ADIB RUSYAIDI BIN MOHD ZAKI</td>\n    </tr>\n  </tbody>\n</table>\n</div>"
     },
     "execution_count": 52,
     "metadata": {},
     "output_type": "execute_result"
    }
   ],
   "source": [
    "# Create a new dataframe with only the ID number and Name columns\n",
    "\n",
    "students = students[['ID number', 'First name']]\n",
    "students.head()"
   ],
   "metadata": {
    "collapsed": false,
    "ExecuteTime": {
     "end_time": "2023-11-02T16:07:00.719409200Z",
     "start_time": "2023-11-02T16:07:00.530780600Z"
    }
   },
   "id": "c3909ae57078a9e1"
  },
  {
   "cell_type": "code",
   "execution_count": 53,
   "outputs": [
    {
     "data": {
      "text/plain": "   ID number                                  First name    oct12    oct19  \\\n4   22001043           MUHAMMAD SYAHMIE BIN MOHD.AFFANDI   Absent  Present   \n21  22001044                   NUR SANJIDA BINTI MD TITU   Absent  Present   \n6   22001279                       AKMAL HARIZ BIN AZIDI   Absent  Present   \n19  22001741   TENGKU MOHAMAD HAIKAL BIN TENGKU ABDULLAH   Absent  Present   \n1   22001821                 ADIB RUSYAIDI BIN MOHD ZAKI   Absent  Present   \n20  22001866               MUHAMMAD NUR FITRI BIN FAIZAN   Absent  Present   \n2   22002089              AHMAD FAHIIM BIN MOHAMAD KAMAL   Absent  Present   \n23  22002100              MUHAMMAD DANIEL BIN MOHD NAZRI   Absent  Present   \n18  22002146                             ADAM BIN RAZALI   Absent  Present   \n3   22002203                     IMAN SOFFEA BINTI JAMAL   Absent  Present   \n12  22002231                 ABDUL RAUF HAZIM BIN HARISI   Absent  Present   \n10  22002302     NIK MUHAMMAD AL-FATIH BIN NIK SYAHRIMAN   Absent  Present   \n24  22002385         RADIN IZZ ZUHAIR BIN RADIN ERWANDDY   Absent  Present   \n16  22002423              MUHAMMAD DANISH BIN AZRAI IZET   Absent  Present   \n22  22002511             MUHAMMAD AMIR HAKIM BIN MADZLAN  Present  Present   \n14  22002548                'AMMAR HAZIQ BIN ABDUL HALIM   Absent  Present   \n11  22002566          ABDUL ALIFF AMMAR BIN ABDUL KHALID   Absent  Present   \n7   22002569                 AQMAL IMAN BIN ASMADI YUSRI   Absent   Absent   \n8   22002629  Muhammad Aniq Aizuddin Tai bin Redzuan Tai   Absent  Present   \n17  22002655                               THIERRY HARRY   Absent  Present   \n5   22002675         AMAN ISKANDAR BIN MOHAMAD DZULHAIDI   Absent  Present   \n9   22002692       MUHAMMAD DANISH LUQMAN BIN SHAIFUDDIN   Absent  Present   \n15  22002726         SITI NURFAHADA BINTI DARUS @ MAHADI   Absent  Present   \n32  22057765     NUR FARISYA ALYSSA BINTI MUHAMMAD HELMY   Absent  Present   \n42  22089152                                 FENG YUEXIN  Present  Present   \n36  22095142                         NADYA DEMITA CAMILA   Absent  Present   \n35  22106925                                 ALIYA ISHAK   Absent  Present   \n44  23004881                     THRISHA A/P THIRUMORTHY  Present  Present   \n37  23004895                  SHARVEENA A/P PUVENESWARAN   Absent  Present   \n31  23004900                              OOI KWONG YANG   Absent  Present   \n40  23004924                               WONG JING WEN   Absent  Present   \n39  23004928                                 ONG HAN LIN  Present  Present   \n41  23004980                                 LO JIA KENG   Absent  Present   \n28  23004991                              CHEONG YAN JIE   Absent  Present   \n27  23005000                                CHUA HUI MIN  Present  Present   \n38  23005005                              LIM JIAN CHUEN   Absent  Present   \n30  23005011                                  TAN LI XIN   Absent  Present   \n29  23005019                                CHAW YEN HUA  Present  Present   \n26  23005031                              CHANG CAI TING  Present  Present   \n43  23050091                                  HE ZHENLIN   Absent  Present   \n45  23053827                                  LI XUEYANG   Absent   Absent   \n33  23054536               NAZRUL IKRAM BIN NAZARULANUAR  Present  Present   \n34  23063748                LUQMAN NURHAKIM BIN MD RAPIT   Absent  Present   \n25  S2190329                                  Yulun Deng  Present  Present   \n13  S2195231        Muhammad Hazeem Aiman bin Fuad Hilmi   Absent  Present   \n\n      oct26  \n4   Present  \n21  Present  \n6   Present  \n19  Present  \n1   Present  \n20  Present  \n2   Present  \n23  Present  \n18  Present  \n3   Present  \n12  Present  \n10  Present  \n24  Present  \n16  Present  \n22  Present  \n14  Present  \n11  Present  \n7   Present  \n8   Present  \n17  Present  \n5   Present  \n9   Present  \n15  Present  \n32  Present  \n42  Present  \n36  Present  \n35  Present  \n44  Present  \n37   Absent  \n31  Present  \n40  Present  \n39  Present  \n41  Present  \n28  Present  \n27  Present  \n38  Present  \n30  Present  \n29  Present  \n26  Present  \n43  Present  \n45   Absent  \n33  Present  \n34  Present  \n25  Present  \n13  Present  ",
      "text/html": "<div>\n<style scoped>\n    .dataframe tbody tr th:only-of-type {\n        vertical-align: middle;\n    }\n\n    .dataframe tbody tr th {\n        vertical-align: top;\n    }\n\n    .dataframe thead th {\n        text-align: right;\n    }\n</style>\n<table border=\"1\" class=\"dataframe\">\n  <thead>\n    <tr style=\"text-align: right;\">\n      <th></th>\n      <th>ID number</th>\n      <th>First name</th>\n      <th>oct12</th>\n      <th>oct19</th>\n      <th>oct26</th>\n    </tr>\n  </thead>\n  <tbody>\n    <tr>\n      <th>4</th>\n      <td>22001043</td>\n      <td>MUHAMMAD SYAHMIE BIN MOHD.AFFANDI</td>\n      <td>Absent</td>\n      <td>Present</td>\n      <td>Present</td>\n    </tr>\n    <tr>\n      <th>21</th>\n      <td>22001044</td>\n      <td>NUR SANJIDA BINTI MD TITU</td>\n      <td>Absent</td>\n      <td>Present</td>\n      <td>Present</td>\n    </tr>\n    <tr>\n      <th>6</th>\n      <td>22001279</td>\n      <td>AKMAL HARIZ BIN AZIDI</td>\n      <td>Absent</td>\n      <td>Present</td>\n      <td>Present</td>\n    </tr>\n    <tr>\n      <th>19</th>\n      <td>22001741</td>\n      <td>TENGKU MOHAMAD HAIKAL BIN TENGKU ABDULLAH</td>\n      <td>Absent</td>\n      <td>Present</td>\n      <td>Present</td>\n    </tr>\n    <tr>\n      <th>1</th>\n      <td>22001821</td>\n      <td>ADIB RUSYAIDI BIN MOHD ZAKI</td>\n      <td>Absent</td>\n      <td>Present</td>\n      <td>Present</td>\n    </tr>\n    <tr>\n      <th>20</th>\n      <td>22001866</td>\n      <td>MUHAMMAD NUR FITRI BIN FAIZAN</td>\n      <td>Absent</td>\n      <td>Present</td>\n      <td>Present</td>\n    </tr>\n    <tr>\n      <th>2</th>\n      <td>22002089</td>\n      <td>AHMAD FAHIIM BIN MOHAMAD KAMAL</td>\n      <td>Absent</td>\n      <td>Present</td>\n      <td>Present</td>\n    </tr>\n    <tr>\n      <th>23</th>\n      <td>22002100</td>\n      <td>MUHAMMAD DANIEL BIN MOHD NAZRI</td>\n      <td>Absent</td>\n      <td>Present</td>\n      <td>Present</td>\n    </tr>\n    <tr>\n      <th>18</th>\n      <td>22002146</td>\n      <td>ADAM BIN RAZALI</td>\n      <td>Absent</td>\n      <td>Present</td>\n      <td>Present</td>\n    </tr>\n    <tr>\n      <th>3</th>\n      <td>22002203</td>\n      <td>IMAN SOFFEA BINTI JAMAL</td>\n      <td>Absent</td>\n      <td>Present</td>\n      <td>Present</td>\n    </tr>\n    <tr>\n      <th>12</th>\n      <td>22002231</td>\n      <td>ABDUL RAUF HAZIM BIN HARISI</td>\n      <td>Absent</td>\n      <td>Present</td>\n      <td>Present</td>\n    </tr>\n    <tr>\n      <th>10</th>\n      <td>22002302</td>\n      <td>NIK MUHAMMAD AL-FATIH BIN NIK SYAHRIMAN</td>\n      <td>Absent</td>\n      <td>Present</td>\n      <td>Present</td>\n    </tr>\n    <tr>\n      <th>24</th>\n      <td>22002385</td>\n      <td>RADIN IZZ ZUHAIR BIN RADIN ERWANDDY</td>\n      <td>Absent</td>\n      <td>Present</td>\n      <td>Present</td>\n    </tr>\n    <tr>\n      <th>16</th>\n      <td>22002423</td>\n      <td>MUHAMMAD DANISH BIN AZRAI IZET</td>\n      <td>Absent</td>\n      <td>Present</td>\n      <td>Present</td>\n    </tr>\n    <tr>\n      <th>22</th>\n      <td>22002511</td>\n      <td>MUHAMMAD AMIR HAKIM BIN MADZLAN</td>\n      <td>Present</td>\n      <td>Present</td>\n      <td>Present</td>\n    </tr>\n    <tr>\n      <th>14</th>\n      <td>22002548</td>\n      <td>'AMMAR HAZIQ BIN ABDUL HALIM</td>\n      <td>Absent</td>\n      <td>Present</td>\n      <td>Present</td>\n    </tr>\n    <tr>\n      <th>11</th>\n      <td>22002566</td>\n      <td>ABDUL ALIFF AMMAR BIN ABDUL KHALID</td>\n      <td>Absent</td>\n      <td>Present</td>\n      <td>Present</td>\n    </tr>\n    <tr>\n      <th>7</th>\n      <td>22002569</td>\n      <td>AQMAL IMAN BIN ASMADI YUSRI</td>\n      <td>Absent</td>\n      <td>Absent</td>\n      <td>Present</td>\n    </tr>\n    <tr>\n      <th>8</th>\n      <td>22002629</td>\n      <td>Muhammad Aniq Aizuddin Tai bin Redzuan Tai</td>\n      <td>Absent</td>\n      <td>Present</td>\n      <td>Present</td>\n    </tr>\n    <tr>\n      <th>17</th>\n      <td>22002655</td>\n      <td>THIERRY HARRY</td>\n      <td>Absent</td>\n      <td>Present</td>\n      <td>Present</td>\n    </tr>\n    <tr>\n      <th>5</th>\n      <td>22002675</td>\n      <td>AMAN ISKANDAR BIN MOHAMAD DZULHAIDI</td>\n      <td>Absent</td>\n      <td>Present</td>\n      <td>Present</td>\n    </tr>\n    <tr>\n      <th>9</th>\n      <td>22002692</td>\n      <td>MUHAMMAD DANISH LUQMAN BIN SHAIFUDDIN</td>\n      <td>Absent</td>\n      <td>Present</td>\n      <td>Present</td>\n    </tr>\n    <tr>\n      <th>15</th>\n      <td>22002726</td>\n      <td>SITI NURFAHADA BINTI DARUS @ MAHADI</td>\n      <td>Absent</td>\n      <td>Present</td>\n      <td>Present</td>\n    </tr>\n    <tr>\n      <th>32</th>\n      <td>22057765</td>\n      <td>NUR FARISYA ALYSSA BINTI MUHAMMAD HELMY</td>\n      <td>Absent</td>\n      <td>Present</td>\n      <td>Present</td>\n    </tr>\n    <tr>\n      <th>42</th>\n      <td>22089152</td>\n      <td>FENG YUEXIN</td>\n      <td>Present</td>\n      <td>Present</td>\n      <td>Present</td>\n    </tr>\n    <tr>\n      <th>36</th>\n      <td>22095142</td>\n      <td>NADYA DEMITA CAMILA</td>\n      <td>Absent</td>\n      <td>Present</td>\n      <td>Present</td>\n    </tr>\n    <tr>\n      <th>35</th>\n      <td>22106925</td>\n      <td>ALIYA ISHAK</td>\n      <td>Absent</td>\n      <td>Present</td>\n      <td>Present</td>\n    </tr>\n    <tr>\n      <th>44</th>\n      <td>23004881</td>\n      <td>THRISHA A/P THIRUMORTHY</td>\n      <td>Present</td>\n      <td>Present</td>\n      <td>Present</td>\n    </tr>\n    <tr>\n      <th>37</th>\n      <td>23004895</td>\n      <td>SHARVEENA A/P PUVENESWARAN</td>\n      <td>Absent</td>\n      <td>Present</td>\n      <td>Absent</td>\n    </tr>\n    <tr>\n      <th>31</th>\n      <td>23004900</td>\n      <td>OOI KWONG YANG</td>\n      <td>Absent</td>\n      <td>Present</td>\n      <td>Present</td>\n    </tr>\n    <tr>\n      <th>40</th>\n      <td>23004924</td>\n      <td>WONG JING WEN</td>\n      <td>Absent</td>\n      <td>Present</td>\n      <td>Present</td>\n    </tr>\n    <tr>\n      <th>39</th>\n      <td>23004928</td>\n      <td>ONG HAN LIN</td>\n      <td>Present</td>\n      <td>Present</td>\n      <td>Present</td>\n    </tr>\n    <tr>\n      <th>41</th>\n      <td>23004980</td>\n      <td>LO JIA KENG</td>\n      <td>Absent</td>\n      <td>Present</td>\n      <td>Present</td>\n    </tr>\n    <tr>\n      <th>28</th>\n      <td>23004991</td>\n      <td>CHEONG YAN JIE</td>\n      <td>Absent</td>\n      <td>Present</td>\n      <td>Present</td>\n    </tr>\n    <tr>\n      <th>27</th>\n      <td>23005000</td>\n      <td>CHUA HUI MIN</td>\n      <td>Present</td>\n      <td>Present</td>\n      <td>Present</td>\n    </tr>\n    <tr>\n      <th>38</th>\n      <td>23005005</td>\n      <td>LIM JIAN CHUEN</td>\n      <td>Absent</td>\n      <td>Present</td>\n      <td>Present</td>\n    </tr>\n    <tr>\n      <th>30</th>\n      <td>23005011</td>\n      <td>TAN LI XIN</td>\n      <td>Absent</td>\n      <td>Present</td>\n      <td>Present</td>\n    </tr>\n    <tr>\n      <th>29</th>\n      <td>23005019</td>\n      <td>CHAW YEN HUA</td>\n      <td>Present</td>\n      <td>Present</td>\n      <td>Present</td>\n    </tr>\n    <tr>\n      <th>26</th>\n      <td>23005031</td>\n      <td>CHANG CAI TING</td>\n      <td>Present</td>\n      <td>Present</td>\n      <td>Present</td>\n    </tr>\n    <tr>\n      <th>43</th>\n      <td>23050091</td>\n      <td>HE ZHENLIN</td>\n      <td>Absent</td>\n      <td>Present</td>\n      <td>Present</td>\n    </tr>\n    <tr>\n      <th>45</th>\n      <td>23053827</td>\n      <td>LI XUEYANG</td>\n      <td>Absent</td>\n      <td>Absent</td>\n      <td>Absent</td>\n    </tr>\n    <tr>\n      <th>33</th>\n      <td>23054536</td>\n      <td>NAZRUL IKRAM BIN NAZARULANUAR</td>\n      <td>Present</td>\n      <td>Present</td>\n      <td>Present</td>\n    </tr>\n    <tr>\n      <th>34</th>\n      <td>23063748</td>\n      <td>LUQMAN NURHAKIM BIN MD RAPIT</td>\n      <td>Absent</td>\n      <td>Present</td>\n      <td>Present</td>\n    </tr>\n    <tr>\n      <th>25</th>\n      <td>S2190329</td>\n      <td>Yulun Deng</td>\n      <td>Present</td>\n      <td>Present</td>\n      <td>Present</td>\n    </tr>\n    <tr>\n      <th>13</th>\n      <td>S2195231</td>\n      <td>Muhammad Hazeem Aiman bin Fuad Hilmi</td>\n      <td>Absent</td>\n      <td>Present</td>\n      <td>Present</td>\n    </tr>\n  </tbody>\n</table>\n</div>"
     },
     "execution_count": 53,
     "metadata": {},
     "output_type": "execute_result"
    }
   ],
   "source": [
    "# append attendance of oct12 to the end of students, with column title 'oct12'\n",
    "\n",
    "students['oct12'] = oct12['Status'].tolist()\n",
    "students['oct19'] = oct19['Status'].tolist()\n",
    "students['oct26'] = oct26['Status'].tolist()\n",
    "students.head(50)"
   ],
   "metadata": {
    "collapsed": false,
    "ExecuteTime": {
     "end_time": "2023-11-02T16:07:00.719409200Z",
     "start_time": "2023-11-02T16:07:00.568890700Z"
    }
   },
   "id": "c272df749f53d2db"
  },
  {
   "cell_type": "code",
   "execution_count": 54,
   "outputs": [],
   "source": [
    "# output to csv\n",
    "\n",
    "students.to_csv('final.csv', index=False)"
   ],
   "metadata": {
    "collapsed": false,
    "ExecuteTime": {
     "end_time": "2023-11-02T16:07:00.719409200Z",
     "start_time": "2023-11-02T16:07:00.615974900Z"
    }
   },
   "id": "a987245e6c082c0f"
  },
  {
   "cell_type": "code",
   "execution_count": 54,
   "outputs": [],
   "source": [],
   "metadata": {
    "collapsed": false,
    "ExecuteTime": {
     "end_time": "2023-11-02T16:07:00.719409200Z",
     "start_time": "2023-11-02T16:07:00.630997500Z"
    }
   },
   "id": "effde0a87811e107"
  }
 ],
 "metadata": {
  "kernelspec": {
   "display_name": "Python 3",
   "language": "python",
   "name": "python3"
  },
  "language_info": {
   "codemirror_mode": {
    "name": "ipython",
    "version": 2
   },
   "file_extension": ".py",
   "mimetype": "text/x-python",
   "name": "python",
   "nbconvert_exporter": "python",
   "pygments_lexer": "ipython2",
   "version": "2.7.6"
  }
 },
 "nbformat": 4,
 "nbformat_minor": 5
}
