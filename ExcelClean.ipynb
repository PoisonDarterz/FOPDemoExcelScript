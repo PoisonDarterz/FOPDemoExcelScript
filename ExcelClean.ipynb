{
 "cells": [
  {
   "cell_type": "markdown",
   "id": "1b159dba062103b6",
   "metadata": {},
   "source": [
    "# FOP Demonstator Sheet\n",
    "\n"
   ]
  },
  {
   "cell_type": "markdown",
   "id": "b9cd5708",
   "metadata": {},
   "source": [
    "## Import the necessary library"
   ]
  },
  {
   "cell_type": "code",
   "execution_count": 1,
   "id": "20bd4c71",
   "metadata": {},
   "outputs": [],
   "source": [
    "import pandas as pd\n",
    "import os\n",
    "import re"
   ]
  },
  {
   "cell_type": "code",
   "execution_count": 2,
   "id": "81c60697",
   "metadata": {},
   "outputs": [],
   "source": [
    "month = \"October_2023\"\n",
    "folder_path = \"C://Users//User//Desktop//UM//FOP_Demo//FOPDemoExcelScript//\" + month + \"//\"\n",
    "file_prefix = \"WIX1002_AttendanceSession_\""
   ]
  },
  {
   "cell_type": "code",
   "execution_count": 3,
   "id": "807e1afd",
   "metadata": {},
   "outputs": [],
   "source": [
    "info = {\n",
    "    'Course': 'WIX1002 FUNDAMENTALS OF PROGRAMMING',\n",
    "    'Group': '2023/2024_SEM1 GROUP 5',\n",
    "    'Lecturer': 'Dr. Burhan UI Islam Khan',\n",
    "    'Demostrator': 'Ng Zhi Yang',\n",
    "    'Lab Time': '5pm - 7pm',\n",
    "}"
   ]
  },
  {
   "cell_type": "markdown",
   "id": "636e0c92",
   "metadata": {},
   "source": [
    "## Students list\n",
    "The tutorial's student list needs to be processed once."
   ]
  },
  {
   "cell_type": "code",
   "execution_count": 4,
   "id": "9cd92ff5",
   "metadata": {},
   "outputs": [],
   "source": [
    "tutorial_student_list = \"courseid_151_participants.xlsx\"\n",
    "processed_data = pd.read_excel(tutorial_student_list) \\\n",
    "                    .drop(['Surname', 'Email address'], axis=1) \\\n",
    "                    .rename(columns={'ID number': 'Student ID'}) \\\n",
    "                    .dropna() \\\n",
    "                    .sort_values(by='Student ID')\n",
    "processed_data.to_csv(\"WIX1002_2324_Student-List.csv\", index=None, header=True)"
   ]
  },
  {
   "cell_type": "markdown",
   "id": "c94193e6",
   "metadata": {},
   "source": [
    "## Converting Excel to CSV\n",
    "\n",
    "For this entire notebook, you need to manually paste the excel locations file by file into here. If you have multiple files you just paste it one by one.\n",
    "If you know how to put all files into a directory and use just one loop no matter the number of files, do send in a PR."
   ]
  },
  {
   "cell_type": "code",
   "execution_count": 5,
   "id": "fd26a17f",
   "metadata": {},
   "outputs": [],
   "source": [
    "students = pd.read_csv(\"WIX1002_2324_Student-List.csv\")"
   ]
  },
  {
   "cell_type": "code",
   "execution_count": 6,
   "id": "21d196a2",
   "metadata": {},
   "outputs": [],
   "source": [
    "def extract_date(date_time):\n",
    "    date_pattern = r'\\d{1,3}-\\d{1,3}-\\d{4}'\n",
    "    return re.search(date_pattern, date_time).group()"
   ]
  },
  {
   "cell_type": "code",
   "execution_count": 7,
   "id": "initial_id",
   "metadata": {
    "ExecuteTime": {
     "end_time": "2023-11-02T16:07:00.389329200Z",
     "start_time": "2023-11-02T16:07:00.165285Z"
    }
   },
   "outputs": [],
   "source": [
    "date_string = []\n",
    "file_string = []\n",
    "files = os.listdir(folder_path)\n",
    "filtered_files = [file for file in files if file.startswith(file_prefix)]\n",
    "\n",
    "for file_name in filtered_files:\n",
    "    file = os.path.join(folder_path, file_name)\n",
    "    excel_file = pd.read_excel(file)\n",
    "    date = extract_date(excel_file.iloc[1,1])\n",
    "    date_string.append(date)\n",
    "    csv_file_path = os.path.join(folder_path, f\"Attendance_{date}.csv\")\n",
    "    excel_file.to_csv(csv_file_path, index=None, header=True)"
   ]
  },
  {
   "cell_type": "markdown",
   "id": "7314da1b0ffe4a24",
   "metadata": {},
   "source": [
    "## CSV overview"
   ]
  },
  {
   "cell_type": "code",
   "execution_count": 8,
   "id": "29629b36",
   "metadata": {},
   "outputs": [],
   "source": [
    "def process_attendance_data(csv_file):\n",
    "    df = pd.read_csv(csv_file)\n",
    "    df = df.iloc[4:, :4]\n",
    "    df = df.rename(columns={'Course': 'Student ID',\n",
    "                           'WIX1002 FUNDAMENTALS OF PROGRAMMING': 'Name',\n",
    "                           'Unnamed: 2': 'Email address',\n",
    "                           'Unnamed: 3': 'Status'}).sort_values(by='Student ID')\n",
    "    return df"
   ]
  },
  {
   "cell_type": "code",
   "execution_count": 10,
   "id": "53476bffbf0acbda",
   "metadata": {
    "ExecuteTime": {
     "end_time": "2023-11-02T16:07:00.436510600Z",
     "start_time": "2023-11-02T16:07:00.389329200Z"
    }
   },
   "outputs": [],
   "source": [
    "for date, file_name in zip(date_string, filtered_files):\n",
    "    csv_file_path = os.path.join(folder_path, f\"Attendance_{date}.csv\")\n",
    "    df = process_attendance_data(csv_file_path)\n",
    "    df = df[df['Student ID'].isin(students['Student ID'])]\n",
    "    students[date] = df['Status'].tolist()\n",
    "\n",
    "students['No'] = range(1, len(df) + 1)\n",
    "students = students[['No'] + [col for col in students if col != 'No']]"
   ]
  },
  {
   "cell_type": "markdown",
   "id": "0cadceca",
   "metadata": {},
   "source": [
    "## Working with workbook"
   ]
  },
  {
   "cell_type": "code",
   "execution_count": 11,
   "id": "e1a2e510",
   "metadata": {},
   "outputs": [],
   "source": [
    "from openpyxl import Workbook\n",
    "from openpyxl.utils.dataframe import dataframe_to_rows\n",
    "from openpyxl.styles import Alignment\n",
    "from openpyxl.utils import get_column_letter"
   ]
  },
  {
   "cell_type": "code",
   "execution_count": 19,
   "id": "ba687acb",
   "metadata": {},
   "outputs": [],
   "source": [
    "wb = Workbook()\n",
    "ws = wb.active"
   ]
  },
  {
   "cell_type": "code",
   "execution_count": 20,
   "id": "8081f08e",
   "metadata": {},
   "outputs": [],
   "source": [
    "# Resize columns\n",
    "column_widths = [12.78, 29.11, 10.78, 11, 11, 11, 11, 11]  # Set the desired column widths\n",
    "    \n",
    "for column_index, width in enumerate(column_widths, start=1):\n",
    "    column_letter = get_column_letter(column_index)\n",
    "    ws.column_dimensions[column_letter].width = width"
   ]
  },
  {
   "cell_type": "code",
   "execution_count": 21,
   "id": "85075943",
   "metadata": {},
   "outputs": [],
   "source": [
    "for i, (key, value) in enumerate(info.items(), start=1):\n",
    "    cell = ws.cell(row=i, column=1, value=key)\n",
    "    cell.alignment = Alignment(horizontal='right')\n",
    "    cell = ws.cell(row=i, column=2, value=value)"
   ]
  },
  {
   "cell_type": "code",
   "execution_count": 22,
   "id": "09747091",
   "metadata": {},
   "outputs": [],
   "source": [
    "starting_row = 7\n",
    "\n",
    "for i, row in enumerate(dataframe_to_rows(students, index=False, header=True), start=starting_row):\n",
    "    for j, value in enumerate(row, start=1):\n",
    "        cell = ws.cell(row=i, column=j, value=value)"
   ]
  },
  {
   "cell_type": "code",
   "execution_count": 23,
   "id": "ff683912",
   "metadata": {},
   "outputs": [],
   "source": [
    "wb.save(f'Final_Attendance_{month}.xlsx')"
   ]
  },
  {
   "cell_type": "code",
   "execution_count": null,
   "id": "a72463b7",
   "metadata": {},
   "outputs": [],
   "source": []
  }
 ],
 "metadata": {
  "kernelspec": {
   "display_name": "Python 3 (ipykernel)",
   "language": "python",
   "name": "python3"
  },
  "language_info": {
   "codemirror_mode": {
    "name": "ipython",
    "version": 3
   },
   "file_extension": ".py",
   "mimetype": "text/x-python",
   "name": "python",
   "nbconvert_exporter": "python",
   "pygments_lexer": "ipython3",
   "version": "3.11.5"
  },
  "varInspector": {
   "cols": {
    "lenName": 16,
    "lenType": 16,
    "lenVar": 40
   },
   "kernels_config": {
    "python": {
     "delete_cmd_postfix": "",
     "delete_cmd_prefix": "del ",
     "library": "var_list.py",
     "varRefreshCmd": "print(var_dic_list())"
    },
    "r": {
     "delete_cmd_postfix": ") ",
     "delete_cmd_prefix": "rm(",
     "library": "var_list.r",
     "varRefreshCmd": "cat(var_dic_list()) "
    }
   },
   "types_to_exclude": [
    "module",
    "function",
    "builtin_function_or_method",
    "instance",
    "_Feature"
   ],
   "window_display": false
  }
 },
 "nbformat": 4,
 "nbformat_minor": 5
}
